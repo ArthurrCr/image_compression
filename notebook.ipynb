{
 "cells": [
  {
   "cell_type": "markdown",
   "id": "8afc343e",
   "metadata": {},
   "source": [
    "# Compressão de Imagem com K-means"
   ]
  },
  {
   "cell_type": "code",
   "execution_count": null,
   "id": "89019a7a",
   "metadata": {},
   "outputs": [],
   "source": [
    "import matplotlib.pyplot as plt\n",
    "import numpy as np"
   ]
  },
  {
   "cell_type": "code",
   "execution_count": null,
   "id": "2b2ca620",
   "metadata": {},
   "outputs": [],
   "source": [
    "def find_closest_centroids(X, centroids):\n",
    "    # Número de centróides (K)\n",
    "    K = centroids.shape[0]\n",
    "    \n",
    "    # Inicializa o array de índices com zeros, do mesmo tamanho que o número de exemplos em X\n",
    "    idx = np.zeros(X.shape[0], dtype=int)\n",
    "\n",
    "    # Para cada exemplo em X\n",
    "    for i in range(X.shape[0]):\n",
    "        # Calcula a distância entre o exemplo X[i] e todos os centróides\n",
    "        distances = np.linalg.norm(X[i] - centroids, axis=1)\n",
    "        \n",
    "        # Atribui o índice do centróide mais próximo ao exemplo X[i]\n",
    "        idx[i] = np.argmin(distances)\n",
    "    \n",
    "    return idx\n",
    "\n",
    "def plot_progress_kMeans(X, centroids, previous_centroids, idx, K, i):\n",
    "   \n",
    "    # Define as cores para os diferentes clusters\n",
    "    colors = ['b', 'g', 'r', 'c', 'm', 'y', 'k']\n",
    "\n",
    "    # Plota os exemplos de treinamento\n",
    "    for k in range(K):\n",
    "        # Seleciona exemplos pertencentes ao cluster k\n",
    "        cluster_points = X[idx == k]\n",
    "        plt.scatter(cluster_points[:, 0], cluster_points[:, 1], s=30, color=colors[k % len(colors)], label=f'Cluster {k+1}')\n",
    "\n",
    "    # Plota a movimentação dos centróides\n",
    "    for j in range(K):\n",
    "        # Plota a linha de movimentação dos centróides\n",
    "        plt.plot([previous_centroids[j, 0], centroids[j, 0]], [previous_centroids[j, 1], centroids[j, 1]], 'k--')\n",
    "        # Plota os centróides atuais\n",
    "        plt.scatter(centroids[j, 0], centroids[j, 1], s=300, c=colors[j % len(colors)], marker='x', linewidth=2)\n",
    "\n",
    "    # Define o título do gráfico\n",
    "    plt.title(f'Iteração {i + 1}')\n",
    "    plt.xlabel('Feature 1')\n",
    "    plt.ylabel('Feature 2')\n",
    "    plt.legend()\n",
    "    plt.grid(True)\n",
    "    plt.show()\n",
    "\n",
    "def compute_centroids(X, idx, K):\n",
    "    m, n = X.shape\n",
    "    centroids = np.zeros((K, n))\n",
    "\n",
    "    for i in range(K):\n",
    "        # Para cada centróide i, extraímos os pontos atribuídos a ele com idx == i\n",
    "        points_assigned_to_centroid = X[idx == i]\n",
    "        centroids[i] = (1/len(points_assigned_to_centroid)) * np.sum(points_assigned_to_centroid, axis=0)\n",
    "    \n",
    "    return centroids"
   ]
  },
  {
   "cell_type": "code",
   "execution_count": null,
   "id": "80501314",
   "metadata": {},
   "outputs": [],
   "source": [
    "def kMeans_init_centroids(X, K):\n",
    "    # Embaralha aleatoriamente os índices dos exemplos em X\n",
    "    randidx = np.random.permutation(X.shape[0])\n",
    "    \n",
    "    # Seleciona os primeiros K exemplos com base na permutação aleatória dos índices\n",
    "    centroids = X[randidx[:K]]\n",
    "    \n",
    "    # Retorna os centróides inicializados aleatoriamente\n",
    "    return centroids\n",
    "\n",
    "\t\n",
    "def run_kMeans(X, initial_centroids, max_iters=10, plot_progress=False):\n",
    "    # Inicializa valores\n",
    "    m, n = X.shape  # m é o número de exemplos e n é o número de características em X\n",
    "    K = initial_centroids.shape[0]  # Número de centróides\n",
    "    centroids = initial_centroids  # Define os centróides iniciais\n",
    "    previous_centroids = centroids  # Armazena os centróides anteriores\n",
    "    idx = np.zeros(m)  # Inicializa o array de índices com zeros, do mesmo tamanho que o número de exemplos em X\n",
    "    plt.figure(figsize=(8, 6))  # Configura o tamanho da figura para a plotagem\n",
    "\n",
    "    # Executa o K-Means\n",
    "    for i in range(max_iters):\n",
    "        # Exibe o progresso\n",
    "        print(\"K-Means iteration %d/%d\" % (i, max_iters-1))\n",
    "        \n",
    "        # Para cada exemplo em X, atribui-o ao centróide mais próximo\n",
    "        idx = find_closest_centroids(X, centroids)\n",
    "        \n",
    "        # Opcionalmente plota o progresso\n",
    "        if plot_progress:\n",
    "            plot_progress_kMeans(X, centroids, previous_centroids, idx, K, i)\n",
    "            previous_centroids = centroids  # Atualiza os centróides anteriores\n",
    "            \n",
    "        # Dadas as atribuições, calcula novos centróides\n",
    "        centroids = compute_centroids(X, idx, K)\n",
    "    \n",
    "    plt.show()  # Mostra o gráfico se a plotagem de progresso estiver habilitada\n",
    "    return centroids, idx  # Retorna os centróides finais e as atribuições de cluster"
   ]
  },
  {
   "cell_type": "code",
   "execution_count": null,
   "id": "7d54a0b9",
   "metadata": {},
   "outputs": [],
   "source": [
    "# Carregar a imagem\n",
    "original_img = plt.imread('AI.png')\n",
    "\n",
    "# Visualizar a imagem\n",
    "plt.imshow(original_img)"
   ]
  },
  {
   "cell_type": "code",
   "execution_count": null,
   "id": "65a2557d",
   "metadata": {},
   "outputs": [],
   "source": [
    "# Verificando a dimensão da imagem\n",
    "print(\"Shape of original_img is:\", original_img.shape)"
   ]
  },
  {
   "cell_type": "code",
   "execution_count": null,
   "id": "4210801b",
   "metadata": {},
   "outputs": [],
   "source": [
    "# Transformar a matriz original_img em uma matriz bidimensional (porque?)\n",
    "# A matriz resultante terá (número de pixels) linhas e 3 colunas (representando RGB)\n",
    "X_img = np.reshape(original_img, (original_img.shape[0] * original_img.shape[1], 3))"
   ]
  },
  {
   "cell_type": "code",
   "execution_count": null,
   "id": "cc36d603",
   "metadata": {},
   "outputs": [],
   "source": [
    "# Número de cores (clusters) que queremos encontrar (testar a diferença entre vários K)\n",
    "K = 16\n",
    "\n",
    "# Número máximo de iterações para o algoritmo K-Means\n",
    "max_iters = 10\n",
    "\n",
    "# Inicializar centróides aleatoriamente a partir dos pixels da imagem\n",
    "initial_centroids = kMeans_init_centroids(X_img, K)\n",
    "\n",
    "# Executar o algoritmo K-Means para encontrar os centróides e atribuições de cluster\n",
    "centroids, idx = run_kMeans(X_img, initial_centroids, max_iters)"
   ]
  }
 ],
 "metadata": {
  "language_info": {
   "name": "python"
  }
 },
 "nbformat": 4,
 "nbformat_minor": 5
}
